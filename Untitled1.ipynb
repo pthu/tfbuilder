{
 "cells": [
  {
   "cell_type": "code",
   "execution_count": 1,
   "metadata": {},
   "outputs": [],
   "source": [
    "from unicodedata import category, normalize\n",
    "\n",
    "letter = {'L'}\n",
    "space = {'Z'}\n",
    "letter_space = {'L', 'Z'}\n",
    "dia = {'M'}\n",
    "punc = {'P'}\n",
    "letter_dia = {'L', 'M'}\n",
    "udnorm = 'NFC'\n",
    "\n",
    "test1a = '-:Κεκρ;?ότηται᾿,᾿'\n",
    "test1b = 'Κεκρ;?ότηται᾿,᾿'\n",
    "test1c = '-:Κε.:κρ;?ότη,.τα...ι᾿,᾿'\n",
    "test2 = '''   Κεκ.,ρότη:ται;?    ?κρηπὶς ..ἀληθείας, ;ὦ παῖδες ὑμεῖς, ἡμῖν αὐτοῖς, \n",
    "ἁγίου νεὼ μεγάλου θεοῦ θεμέλιος γνώσεως ἀρραγής, προτροπὴ καλή, \n",
    "δι᾿ ὑπακοῆς εὐλόγου ζωῆς ἀιδίουὄρεξις, νοερῷ καταβληθεῖσα χωρίῳ.'''"
   ]
  },
  {
   "cell_type": "code",
   "execution_count": 2,
   "metadata": {},
   "outputs": [],
   "source": [
    "def rsplitPunc(word, norm=udnorm, clean=False):\n",
    "    '''This function splits off punctuation \n",
    "    from words on the RIGHT side of the word.\n",
    "    \n",
    "    returns (word, punc)\n",
    "    '''\n",
    "    w = normalize(norm, word)\n",
    "    afterWord = len(w)\n",
    "    for i in range(len(w) - 1, -1, -1):\n",
    "        if category(w[i])[0] not in letter_dia:\n",
    "            afterWord = i\n",
    "        else:\n",
    "            break\n",
    "    if clean:\n",
    "        return (''.join(c for c in w[0:afterWord] \\\n",
    "                          if category(c)[0] in letter_dia), w[afterWord:])\n",
    "    else:\n",
    "        return (w[0:afterWord], w[afterWord:])"
   ]
  },
  {
   "cell_type": "code",
   "execution_count": 3,
   "metadata": {},
   "outputs": [
    {
     "name": "stdout",
     "output_type": "stream",
     "text": [
      "('Κεκρότηται', '᾿,᾿')\n"
     ]
    }
   ],
   "source": [
    "print(rsplitPunc(test1a, clean=True))"
   ]
  },
  {
   "cell_type": "code",
   "execution_count": 4,
   "metadata": {},
   "outputs": [],
   "source": [
    "def lsplitPunc(word, norm=udnorm, clean=False):\n",
    "    '''This function splits off punctuation \n",
    "    from words on the LEFT side of the word.\n",
    "    \n",
    "    returns (punc, word)\n",
    "    '''\n",
    "    w = normalize(norm, word)\n",
    "    beforeWord = -1\n",
    "    for i in range(len(w)):\n",
    "        if category(w[i])[0] not in letter_dia:\n",
    "            beforeWord = i\n",
    "        else:\n",
    "            beforeWord +=1\n",
    "            break\n",
    "    if clean:\n",
    "        return (w[0:beforeWord], ''.join(c for c in w[beforeWord:] \\\n",
    "                                           if category(c)[0] in letter_dia))\n",
    "    else:\n",
    "        return (w[0:beforeWord], w[beforeWord:])\n"
   ]
  },
  {
   "cell_type": "code",
   "execution_count": 5,
   "metadata": {},
   "outputs": [
    {
     "name": "stdout",
     "output_type": "stream",
     "text": [
      "('-:', 'Κεκρότηται')\n"
     ]
    }
   ],
   "source": [
    "print(lsplitPunc(test1a, clean=True))\n"
   ]
  },
  {
   "cell_type": "code",
   "execution_count": 6,
   "metadata": {},
   "outputs": [],
   "source": [
    "def splitPunc(word, norm=udnorm, clean=False):\n",
    "    '''This function splits off punctuation \n",
    "    from words on both sides of the word. \n",
    "    It returns a tuple with tuples, containing\n",
    "    the punctuation before, the word itself, \n",
    "    and punctuation after.\n",
    "    \n",
    "    clean=False:\n",
    "        if punctuation is within the word, the word\n",
    "        will be split into two!\n",
    "    clean=True:\n",
    "        punctuation within a word will be deleted\n",
    "    \n",
    "    returns ((pre, word, after), (pre, word, after), ...)\n",
    "    '''\n",
    "    w = normalize(norm, word)\n",
    "    pP = 0\n",
    "    for i in range(len(w)):\n",
    "        if category(w[i])[0] not in letter_dia:\n",
    "            pP += 1\n",
    "        else:\n",
    "            break\n",
    "    preWord = w[0:pP].strip() if pP else ''\n",
    "    pW = pP\n",
    "    for i in range(pP, len(w)):\n",
    "        if category(w[i])[0] in letter_dia:\n",
    "            pW += 1\n",
    "        else:\n",
    "            break\n",
    "    word = w[pP:pW]\n",
    "    pA = pW\n",
    "    for i in range(pW, len(w)):\n",
    "        if clean:\n",
    "            if category(w[i])[0] in space:\n",
    "                pA += 1\n",
    "                break\n",
    "            elif category(w[i])[0] in letter_dia:\n",
    "                pW = i + 1\n",
    "                pA = pW\n",
    "                word += w[i]\n",
    "            elif category(w[i])[0] not in letter_dia:\n",
    "                pA += 1\n",
    "        else:\n",
    "            if category(w[i])[0] in space:\n",
    "                pA += 1\n",
    "                break\n",
    "            elif category(w[i])[0] not in letter_dia:\n",
    "                pA += 1\n",
    "            else:\n",
    "                break\n",
    "    afterWord = w[pW:pA].strip()\n",
    "    rest = splitPunc(w[pA:], clean=clean) if pA < len(w) else ()\n",
    "    return ((preWord, word, afterWord),) + rest"
   ]
  },
  {
   "cell_type": "code",
   "execution_count": 7,
   "metadata": {},
   "outputs": [
    {
     "name": "stdout",
     "output_type": "stream",
     "text": [
      "   Κεκ.,ρότη:ται;?    ?κρηπὶς ..ἀληθείας, ;ὦ παῖδες ὑμεῖς, ἡμῖν αὐτοῖς, \n",
      "ἁγίου νεὼ μεγάλου θεοῦ θεμέλιος γνώσεως ἀρραγής, προτροπὴ καλή, \n",
      "δι᾿ ὑπακοῆς εὐλόγου ζωῆς ἀιδίουὄρεξις, νοερῷ καταβληθεῖσα χωρίῳ.\n"
     ]
    },
    {
     "data": {
      "text/plain": [
       "(('', 'Κεκρότηται', ';?'),\n",
       " ('?', 'κρηπὶς', ''),\n",
       " ('..', 'ἀληθείας', ','),\n",
       " (';', 'ὦ', ''),\n",
       " ('', 'παῖδες', ''),\n",
       " ('', 'ὑμεῖς', ','),\n",
       " ('', 'ἡμῖν', ''),\n",
       " ('', 'αὐτοῖς', ','),\n",
       " ('', 'ἁγίου', ''),\n",
       " ('', 'νεὼ', ''),\n",
       " ('', 'μεγάλου', ''),\n",
       " ('', 'θεοῦ', ''),\n",
       " ('', 'θεμέλιος', ''),\n",
       " ('', 'γνώσεως', ''),\n",
       " ('', 'ἀρραγής', ','),\n",
       " ('', 'προτροπὴ', ''),\n",
       " ('', 'καλή', ','),\n",
       " ('', 'δι', '᾿'),\n",
       " ('', 'ὑπακοῆς', ''),\n",
       " ('', 'εὐλόγου', ''),\n",
       " ('', 'ζωῆς', ''),\n",
       " ('', 'ἀιδίουὄρεξις', ','),\n",
       " ('', 'νοερῷ', ''),\n",
       " ('', 'καταβληθεῖσα', ''),\n",
       " ('', 'χωρίῳ', '.'))"
      ]
     },
     "execution_count": 7,
     "metadata": {},
     "output_type": "execute_result"
    }
   ],
   "source": [
    "print(test2)\n",
    "splitPunc(test2, clean=True)"
   ]
  },
  {
   "cell_type": "code",
   "execution_count": 8,
   "metadata": {},
   "outputs": [],
   "source": [
    "def cleanWords(words, norm=udnorm, clean=False): \n",
    "    \"\"\"cleanWords splits off any punctuation and \n",
    "    non-word characters from words in a string. \n",
    "    It can be used for cleaning single words,\n",
    "    or to tokenize full sentences.\n",
    "    \n",
    "    clean=False:\n",
    "        letter characters that have punctuation\n",
    "        inbetween but no space, are split on punctuation\n",
    "    \n",
    "    clean=True:\n",
    "        words with punctuation within (without whitespace) \n",
    "        are glued together without punctuation\n",
    "    \n",
    "    returns: ('string', 'string', ...)\n",
    "    \"\"\"\n",
    "    w = normalize(norm, words)\n",
    "    pP = 0\n",
    "    for i in range(len(w)):\n",
    "        if category(w[i])[0] not in letter_dia:\n",
    "            pP += 1\n",
    "        else:\n",
    "            break\n",
    "    pW = pP\n",
    "    for i in range(pP, len(w)):\n",
    "        if category(w[i])[0] in letter_dia:\n",
    "            pW += 1\n",
    "        else:\n",
    "            break\n",
    "    realWord = w[pP:pW]\n",
    "    pA = pW\n",
    "    for i in range(pW, len(w)):\n",
    "        if clean:\n",
    "            if category(w[i])[0] in space:\n",
    "                break\n",
    "            elif category(w[i])[0] not in letter_dia:\n",
    "                pA += 1\n",
    "            elif category(w[i])[0] in letter_dia:\n",
    "                realWord += w[i]\n",
    "                pA += 1\n",
    "        else:\n",
    "            if category(w[i])[0] not in letter_dia:\n",
    "                pA += 1\n",
    "            else:\n",
    "                break\n",
    "    if clean:\n",
    "        res = (realWord,) + (cleanWords(w[pA:], clean=clean) if pA < len(w) else ())\n",
    "        return res if not res == ('',) else ()\n",
    "    else:\n",
    "        res = (realWord,) + (cleanWords(w[pA:], clean=clean) if pA < len(w) else ())\n",
    "        return res if not res == ('',) else ()\n"
   ]
  },
  {
   "cell_type": "code",
   "execution_count": 9,
   "metadata": {},
   "outputs": [
    {
     "name": "stdout",
     "output_type": "stream",
     "text": [
      "   Κεκ.,ρότη:ται;?    ?κρηπὶς ..ἀληθείας, ;ὦ παῖδες ὑμεῖς, ἡμῖν αὐτοῖς, \n",
      "ἁγίου νεὼ μεγάλου θεοῦ θεμέλιος γνώσεως ἀρραγής, προτροπὴ καλή, \n",
      "δι᾿ ὑπακοῆς εὐλόγου ζωῆς ἀιδίουὄρεξις, νοερῷ καταβληθεῖσα χωρίῳ.\n"
     ]
    },
    {
     "data": {
      "text/plain": [
       "('Κεκ',\n",
       " 'ρότη',\n",
       " 'ται',\n",
       " 'κρηπὶς',\n",
       " 'ἀληθείας',\n",
       " 'ὦ',\n",
       " 'παῖδες',\n",
       " 'ὑμεῖς',\n",
       " 'ἡμῖν',\n",
       " 'αὐτοῖς',\n",
       " 'ἁγίου',\n",
       " 'νεὼ',\n",
       " 'μεγάλου',\n",
       " 'θεοῦ',\n",
       " 'θεμέλιος',\n",
       " 'γνώσεως',\n",
       " 'ἀρραγής',\n",
       " 'προτροπὴ',\n",
       " 'καλή',\n",
       " 'δι',\n",
       " 'ὑπακοῆς',\n",
       " 'εὐλόγου',\n",
       " 'ζωῆς',\n",
       " 'ἀιδίουὄρεξις',\n",
       " 'νοερῷ',\n",
       " 'καταβληθεῖσα',\n",
       " 'χωρίῳ')"
      ]
     },
     "execution_count": 9,
     "metadata": {},
     "output_type": "execute_result"
    }
   ],
   "source": [
    "print(test2)\n",
    "cleanWords(test2, clean=False)"
   ]
  },
  {
   "cell_type": "code",
   "execution_count": 13,
   "metadata": {},
   "outputs": [],
   "source": [
    "def tokenizer(sentence, norm=udnorm, punc=False, clean=False): #TODO add function input\n",
    "    \"\"\"tokenize feeds a sentence string\n",
    "    to splitWord, while concatenating the\n",
    "    resulting strings into one tuple.\n",
    "    \n",
    "    clean=False:\n",
    "        split on punctuation without whitespace\n",
    "    clean=True:\n",
    "        delete punctuation inside words\n",
    "    clean=None\n",
    "        \n",
    "    returns: ('string', 'string', ...)\n",
    "    \"\"\"\n",
    "    if punc:\n",
    "        if clean:\n",
    "            return tuple(f'{pre}{word}{post}' \\\n",
    "                for pre, word, post in splitPunc(sentence, norm=udnorm, clean=True))\n",
    "        else:\n",
    "            return tuple(f'{pre}{word}{post}' \\\n",
    "                for pre, word, post in splitPunc(sentence, norm=udnorm, clean=False))\n",
    "            \n",
    "    else:\n",
    "        if clean:\n",
    "            return cleanWords(sentence, clean=True)\n",
    "        else:\n",
    "            return cleanWords(sentence, clean=False)\n",
    "\n",
    "\n",
    "        "
   ]
  },
  {
   "cell_type": "code",
   "execution_count": 15,
   "metadata": {},
   "outputs": [
    {
     "name": "stdout",
     "output_type": "stream",
     "text": [
      "   Κεκ.,ρότη:ται;?    ?κρηπὶς ..ἀληθείας, ;ὦ παῖδες ὑμεῖς, ἡμῖν αὐτοῖς, \n",
      "ἁγίου νεὼ μεγάλου θεοῦ θεμέλιος γνώσεως ἀρραγής, προτροπὴ καλή, \n",
      "δι᾿ ὑπακοῆς εὐλόγου ζωῆς ἀιδίουὄρεξις, νοερῷ καταβληθεῖσα χωρίῳ.\n"
     ]
    },
    {
     "data": {
      "text/plain": [
       "('Κεκρότηται',\n",
       " 'κρηπὶς',\n",
       " 'ἀληθείας',\n",
       " 'ὦ',\n",
       " 'παῖδες',\n",
       " 'ὑμεῖς',\n",
       " 'ἡμῖν',\n",
       " 'αὐτοῖς',\n",
       " 'ἁγίου',\n",
       " 'νεὼ',\n",
       " 'μεγάλου',\n",
       " 'θεοῦ',\n",
       " 'θεμέλιος',\n",
       " 'γνώσεως',\n",
       " 'ἀρραγής',\n",
       " 'προτροπὴ',\n",
       " 'καλή',\n",
       " 'δι',\n",
       " 'ὑπακοῆς',\n",
       " 'εὐλόγου',\n",
       " 'ζωῆς',\n",
       " 'ἀιδίουὄρεξις',\n",
       " 'νοερῷ',\n",
       " 'καταβληθεῖσα',\n",
       " 'χωρίῳ')"
      ]
     },
     "execution_count": 15,
     "metadata": {},
     "output_type": "execute_result"
    }
   ],
   "source": [
    "print(test2)\n",
    "tokenizer(test2, punc=False, clean=True)"
   ]
  },
  {
   "cell_type": "code",
   "execution_count": null,
   "metadata": {},
   "outputs": [],
   "source": []
  }
 ],
 "metadata": {
  "kernelspec": {
   "display_name": "Python 3",
   "language": "python",
   "name": "python3"
  },
  "language_info": {
   "codemirror_mode": {
    "name": "ipython",
    "version": 3
   },
   "file_extension": ".py",
   "mimetype": "text/x-python",
   "name": "python",
   "nbconvert_exporter": "python",
   "pygments_lexer": "ipython3",
   "version": "3.6.6"
  }
 },
 "nbformat": 4,
 "nbformat_minor": 2
}
