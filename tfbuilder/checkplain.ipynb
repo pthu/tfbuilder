{
 "cells": [
  {
   "cell_type": "code",
   "execution_count": null,
   "metadata": {},
   "outputs": [],
   "source": [
    "def checkplain(file):\n",
    "    faults = set()\n",
    "    with open(file, 'r') as f:\n",
    "        for line in f.readlines():\n",
    "            if line.startswith('@'):\n",
    "                continue\n",
    "            for c in line:\n",
    "                if c not in \"0123456789ϝαβγδεζηθικλμνξοπρσςτυφχψω\\n\\t,᾽᾿ʹʼ’'\":\n",
    "                    faults.add(line)\n",
    "    return faults"
   ]
  },
  {
   "cell_type": "code",
   "execution_count": null,
   "metadata": {},
   "outputs": [],
   "source": [
    "import os\n",
    "from pprint import pprint\n",
    "\n",
    "plain_files = []\n",
    "for root, dirs, files in os.walk(\"/media/ernstboogert/ResearchDat/TF_dissertation\", topdown=False):\n",
    "    for file in files:\n",
    "        if file == 'plain.tf':\n",
    "            plain_files.append(os.path.join(root, file))\n",
    "\n",
    "pprint(plain_files)"
   ]
  },
  {
   "cell_type": "code",
   "execution_count": null,
   "metadata": {},
   "outputs": [],
   "source": [
    "for file in plain_files:\n",
    "    print(checkplain(file))"
   ]
  },
  {
   "cell_type": "code",
   "execution_count": null,
   "metadata": {},
   "outputs": [],
   "source": [
    "print({'᾿', '’', '᾽', \"'\", 'ʹ', 'ʼ', 'ʼ', 'ʼ', 'ʼ', 'ʼ', 'ʼ', 'ʼ', 'ʼ', 'ʼ', 'ʼ'})"
   ]
  },
  {
   "cell_type": "code",
   "execution_count": null,
   "metadata": {},
   "outputs": [],
   "source": [
    "from cltk.corpus.greek.beta_to_unicode import Replacer\n",
    "import betacode.conv\n",
    "\n",
    "beta_to_uni = Replacer()\n",
    "\n",
    "word = 'aφοrιϲμουϲ'\n",
    "word = 'abcdefg'\n",
    "\n",
    "word = ''.join((c if not c == 'ϲ' else 'σ' for c in word))\n",
    "print(word)\n",
    "\n",
    "print(beta_to_uni.beta_code(word).lower())\n",
    "print(betacode.conv.uni_to_beta(word))"
   ]
  },
  {
   "cell_type": "code",
   "execution_count": null,
   "metadata": {},
   "outputs": [],
   "source": [
    "'᾽στ᾽'"
   ]
  },
  {
   "cell_type": "code",
   "execution_count": null,
   "metadata": {},
   "outputs": [],
   "source": [
    "s = syllabify.syllabify('υμων')\n",
    "for accentuation in possible_accentuations(s):\n",
    "    print(add_accentuation(s, accentuation))\n"
   ]
  },
  {
   "cell_type": "code",
   "execution_count": null,
   "metadata": {},
   "outputs": [],
   "source": []
  }
 ],
 "metadata": {
  "kernelspec": {
   "display_name": "Python 3",
   "language": "python",
   "name": "python3"
  },
  "language_info": {
   "codemirror_mode": {
    "name": "ipython",
    "version": 3
   },
   "file_extension": ".py",
   "mimetype": "text/x-python",
   "name": "python",
   "nbconvert_exporter": "python",
   "pygments_lexer": "ipython3",
   "version": "3.6.6"
  }
 },
 "nbformat": 4,
 "nbformat_minor": 2
}
