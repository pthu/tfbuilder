{
 "cells": [
  {
   "cell_type": "code",
   "execution_count": 9,
   "metadata": {},
   "outputs": [],
   "source": [
    "from os import path\n",
    "import re\n",
    "\n",
    "fullSub = re.compile(r'<note.+?/note>')\n",
    "wordSub = re.compile(r'</*w>|<w .*?>')\n",
    "elemSub = re.compile(r'</*(lb|pb|div|app|pc|hi|supplied).*?>')\n",
    "gabSub  = re.compile(r'<gap.*/>')\n",
    "partSub = re.compile(r'<ab.*?part.*?>')\n",
    "# puntSub = re.compile()\n",
    "\n",
    "def mss_clean(input_file, output_file):\n",
    "    out = open(output_file, 'w+')\n",
    "    with open(input_file) as input_file:\n",
    "        for line in input_file.readlines():\n",
    "            line = re.sub(fullSub, '', line)\n",
    "            line = re.sub(elemSub, '', line)\n",
    "            line = re.sub(gabSub, ' {gap} ', line)\n",
    "            line = re.sub(partSub, '', line)\n",
    "            if line.strip().endswith('</w>'):\n",
    "                line = line.strip() + ' \\n'\n",
    "            line = re.sub(wordSub, '', line)\n",
    "            if line.strip().endswith('>'):\n",
    "                line = line.strip() + '\\n'\n",
    "#             out.write(line.replace('</ab>', '')) # .replace('\\n', ''))\n",
    "            out.write(line.replace('</ab>', '').replace('\\n', ''))\n",
    "#             out.write(line.replace('<w>', '').replace('</w>', ''))\n",
    "    out.close()\n",
    "    \n",
    "mss_clean(path.expanduser(path.join('~/github/pthu/sources/manuscripts/test/20004.xml')), path.expanduser(path.join('~/github/pthu/sources/manuscripts/test/out/20004_clean.xml')))"
   ]
  },
  {
   "cell_type": "code",
   "execution_count": null,
   "metadata": {},
   "outputs": [],
   "source": []
  }
 ],
 "metadata": {
  "kernelspec": {
   "display_name": "Python 3",
   "language": "python",
   "name": "python3"
  },
  "language_info": {
   "codemirror_mode": {
    "name": "ipython",
    "version": 3
   },
   "file_extension": ".py",
   "mimetype": "text/x-python",
   "name": "python",
   "nbconvert_exporter": "python",
   "pygments_lexer": "ipython3",
   "version": "3.6.9"
  }
 },
 "nbformat": 4,
 "nbformat_minor": 2
}
