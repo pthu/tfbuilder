{
 "cells": [
  {
   "cell_type": "code",
   "execution_count": null,
   "metadata": {},
   "outputs": [],
   "source": [
    "from os import path\n",
    "import re\n",
    "\n",
    "fullSub = re.compile(r'<(note|fw|num).+?/(note|fw|num)>')\n",
    "wordSub = re.compile(r'</*w>|<w .*?>')\n",
    "elemSub = re.compile(r'</*(lb|pb|pc|cb|hi|app|supplied|unclear|seg).*?>')\n",
    "gabSub  = re.compile(r'<gap.*/>')\n",
    "partSub = re.compile(r'<ab.*?part.*?>')\n",
    "# puntSub = re.compile()\n",
    "\n",
    "def mss_clean(input_file, output_path):\n",
    "    outDict = {}\n",
    "    bodyStart = False\n",
    "    listWit = False\n",
    "    metaData = ''\n",
    "    witnesses = ''\n",
    "    rawData = ''\n",
    "#     out = open(output_file, 'w+')\n",
    "    with open(input_file) as infile:\n",
    "        filename = path.splitext(input_file)[0].split('/')[-1]\n",
    "        \n",
    "        for line in infile.readlines():\n",
    "            if bodyStart == False:\n",
    "                if '<body>' in line:\n",
    "                    witnesses = [s.split('\"')[1] for s in witnesses.split('><') if s.startswith('witness')]\n",
    "                    for wit in witnesses:\n",
    "                        outDict[f'{filename}-{wit}'] = metaData + '<body>'\n",
    "                    bodyStart = True\n",
    "                    continue\n",
    "                if '<listWit>' in line:\n",
    "                    listWit = True\n",
    "                    witnesses += line.strip()\n",
    "                if listWit == True:\n",
    "                    witnesses += line.strip()\n",
    "                if '</listWit>' in line:\n",
    "                    witnesses += line.strip()\n",
    "                    listWit = False\n",
    "                metaData += line.strip()\n",
    "            else:    \n",
    "                line = re.sub(fullSub, '', line)\n",
    "                line = re.sub(elemSub, '', line)\n",
    "                line = re.sub(gabSub, ' {gap} ', line)\n",
    "                line = re.sub(partSub, '', line)\n",
    "                if line.strip().endswith('</w>'):\n",
    "                    line = line.strip() + ' \\n'\n",
    "                line = re.sub(wordSub, '', line)\n",
    "                if line.strip().endswith('>'):\n",
    "                    line = line.strip() + '\\n'\n",
    "                line = line.replace('</ab>', '').replace('\\n', '')\n",
    "                rawData += line\n",
    "            \n",
    "        for wit in witnesses:\n",
    "            out = open(f'{output_path}/{filename}-{wit}.xml', 'w+')\n",
    "            outData = re.sub(rf'<rdg .*(?!{wit})+.*?</rdg>', '', rawData)\n",
    "            out.write(outData)\n",
    "            out.write(line.replace('</ab>', '').replace('\\n', ''))\n",
    "            out.close()\n",
    "\n",
    "    \n",
    "mss_clean(path.expanduser(path.join('~/github/pthu/sources/manuscripts/test/20004.xml')), path.expanduser(path.join('~/github/pthu/sources/manuscripts/test/out')))"
   ]
  },
  {
   "cell_type": "code",
   "execution_count": null,
   "metadata": {},
   "outputs": [],
   "source": [
    "string = '<listWit><witness xml:id=\"firsthand\"/><witness xml:id=\"corrector\"/></listWit></sourceDesc>'\n",
    "dictio = tuple(corr.split(' ')[1].strip for corr in [s for s in string.split('><') if s.startswith('witness')])\n",
    "print(string.split('><'))\n",
    "print([s.split('\"')[1] for s in string.split('><') if s.startswith('witness')])"
   ]
  },
  {
   "cell_type": "code",
   "execution_count": null,
   "metadata": {},
   "outputs": [],
   "source": [
    "import re\n",
    "\n",
    "rawData = '<rdg type=\"orig\" hand=\"firsthand\"/><rdg type=\"corr\" hand=\"corrector2\"><w>γαρ</w></rdg><rdg type=\"corr\" hand=\"correctorC\"><w>γαρ</w></rdg>'\n",
    "wit = 'firsthand'\n",
    "# print(rawData)\n",
    "# re.sub(r'<rdg .*?hand=\"(?!'+wit+')\"((/>)|(.*?</rdg>))', '', rawData)\n",
    "# re.sub(r'<rdg .*?hand=.*(?!'+wit+').*/>', '', rawData) #|<rdg .*?hand=.*(?!'+wit+').*</rdg>', '', rawData)\n",
    "\n",
    "print(re.sub(r'<rdg.*?hand=\"((?<!'+wit+').)+\".+?</rdg>', '', rawData))\n",
    "\n",
    "\n",
    "# print(re.sub(r'<rdg.*?hand=\"(?<!'+wit+').*?\"/>', '', rawData)) #|<rdg .*?hand=.*(?!'+wit+').*</rdg>', '', rawData)"
   ]
  },
  {
   "cell_type": "code",
   "execution_count": null,
   "metadata": {},
   "outputs": [],
   "source": []
  }
 ],
 "metadata": {
  "kernelspec": {
   "display_name": "Python 3",
   "language": "python",
   "name": "python3"
  },
  "language_info": {
   "codemirror_mode": {
    "name": "ipython",
    "version": 3
   },
   "file_extension": ".py",
   "mimetype": "text/x-python",
   "name": "python",
   "nbconvert_exporter": "python",
   "pygments_lexer": "ipython3",
   "version": "3.6.9"
  }
 },
 "nbformat": 4,
 "nbformat_minor": 2
}
